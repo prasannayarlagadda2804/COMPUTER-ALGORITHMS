{
  "nbformat": 4,
  "nbformat_minor": 0,
  "metadata": {
    "colab": {
      "provenance": []
    },
    "kernelspec": {
      "name": "python3",
      "display_name": "Python 3"
    },
    "language_info": {
      "name": "python"
    }
  },
  "cells": [
    {
      "cell_type": "code",
      "execution_count": 2,
      "metadata": {
        "colab": {
          "base_uri": "https://localhost:8080/"
        },
        "id": "UQRKWvURUnRE",
        "outputId": "cbc12ac6-c9dd-4e5e-f241-4c8ccaf7a377"
      },
      "outputs": [
        {
          "output_type": "stream",
          "name": "stdout",
          "text": [
            "Enter the number of unique characters: 6\n",
            "Enter character: a\n",
            "Enter frequency for a: 3\n",
            "Enter character: b\n",
            "Enter frequency for b: 4\n",
            "Enter character: c\n",
            "Enter frequency for c: 6\n",
            "Enter character: d\n",
            "Enter frequency for d: 8\n",
            "Enter character: e\n",
            "Enter frequency for e: 1\n",
            "Enter character: f\n",
            "Enter frequency for f: 7\n",
            "\n",
            "Character Huffman Codes:\n",
            "a: 1011\n",
            "b: 100\n",
            "c: 00\n",
            "d: 11\n",
            "e: 1010\n",
            "f: 01\n"
          ]
        }
      ],
      "source": [
        "import heapq\n",
        "from collections import defaultdict\n",
        "\n",
        "class Node:\n",
        "    def __init__(self, char, freq):\n",
        "        self.char = char\n",
        "        self.freq = freq\n",
        "        self.left = None\n",
        "        self.right = None\n",
        "\n",
        "    def __lt__(self, other):\n",
        "        if self.freq == other.freq:\n",
        "            return self.char < other.char\n",
        "        return self.freq < other.freq\n",
        "\n",
        "def build_huffman_tree(char_freq):\n",
        "    heap = [Node(char, freq) for char, freq in char_freq.items()]\n",
        "    heapq.heapify(heap)\n",
        "\n",
        "    while len(heap) > 1:\n",
        "        left = heapq.heappop(heap)\n",
        "        right = heapq.heappop(heap)\n",
        "\n",
        "        merged = Node(left.char + right.char, left.freq + right.freq)\n",
        "        merged.left = left\n",
        "        merged.right = right\n",
        "        heapq.heappush(heap, merged)\n",
        "\n",
        "    return heap[0] if heap else None\n",
        "def generate_huffman_codes(node, prefix=\"\", code_dict=None):\n",
        "    if code_dict is None:\n",
        "        code_dict = {}\n",
        "\n",
        "    if node:\n",
        "        if not node.left and not node.right:\n",
        "            code_dict[node.char] = prefix\n",
        "        generate_huffman_codes(node.left, prefix + \"0\", code_dict)\n",
        "        generate_huffman_codes(node.right, prefix + \"1\", code_dict)\n",
        "\n",
        "    return code_dict\n",
        "\n",
        "def huffman_encoding():\n",
        "    n = int(input(\"Enter the number of unique characters: \"))\n",
        "    char_freq = {}\n",
        "    for _ in range(n):\n",
        "        char = input(\"Enter character: \").strip().lower()\n",
        "        freq = int(input(f\"Enter frequency for {char}: \"))\n",
        "        if char in char_freq:\n",
        "            char_freq[char] += freq\n",
        "        else:\n",
        "            char_freq[char] = freq\n",
        "\n",
        "\n",
        "    root = build_huffman_tree(char_freq)\n",
        "\n",
        "    huffman_codes = generate_huffman_codes(root)\n",
        "    print(\"\\nCharacter Huffman Codes:\")\n",
        "    for char, code in sorted(huffman_codes.items()):\n",
        "        print(f\"{char}: {code}\")\n",
        "\n",
        "huffman_encoding()\n"
      ]
    },
    {
      "cell_type": "code",
      "source": [],
      "metadata": {
        "id": "LOyaXDdFVkNg"
      },
      "execution_count": null,
      "outputs": []
    }
  ]
}